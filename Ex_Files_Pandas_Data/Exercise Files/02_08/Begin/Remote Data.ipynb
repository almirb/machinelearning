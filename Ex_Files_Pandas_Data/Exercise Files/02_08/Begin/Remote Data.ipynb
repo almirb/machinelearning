{
 "cells": [
  {
   "cell_type": "markdown",
   "metadata": {},
   "source": [
    "### Remote Data\n",
    "- Yahoo\n",
    "- St. Louis Fed (FRED)\n",
    "- Google\n",
    "\n",
    "documentation: http://pandas.pydata.org/pandas-docs/stable/remote_data.html"
   ]
  },
  {
   "cell_type": "markdown",
   "metadata": {},
   "source": [
    "## Installation Requirement\n",
    "pandas-datareader is required; not included with default Anaconda installation (Summer 2016)\n",
    "\n",
    "from command prompt: conda install -c anaconda pandas-datareader\n",
    "    \n",
    "documentation: https://anaconda.org/anaconda/pandas-datareader"
   ]
  },
  {
   "cell_type": "code",
   "execution_count": 1,
   "metadata": {},
   "outputs": [],
   "source": [
    "%matplotlib inline\n",
    "import pandas as pd\n",
    "import numpy as np\n",
    "import matplotlib.pyplot as plt\n",
    "import datetime\n",
    "from pandas_datareader import data, wb,mstar"
   ]
  },
  {
   "cell_type": "markdown",
   "metadata": {},
   "source": [
    "### MorningStar"
   ]
  },
  {
   "cell_type": "code",
   "execution_count": null,
   "metadata": {},
   "outputs": [],
   "source": [
    "start = datetime.datetime(2017, 6, 1)\n",
    "end = datetime.datetime(2018, 1, 1)\n",
    "yahoo_df = data.DataReader( 'APPL','morningstar', start=start, end=end)\n",
    "yahoo_df.plot()"
   ]
  },
  {
   "cell_type": "code",
   "execution_count": null,
   "metadata": {},
   "outputs": [],
   "source": [
    "start = datetime.datetime(2017, 6, 1)\n",
    "end = datetime.datetime(2018, 1, 1)\n",
    "yahoo_df = data.DataReader( 'APPL','morningstar', start=start, end=end)\n",
    "yahoo_df.plot()"
   ]
  },
  {
   "cell_type": "markdown",
   "metadata": {},
   "source": [
    "### FRED\n",
    "source: http://quant-econ.net/py/pandas.html"
   ]
  },
  {
   "cell_type": "code",
   "execution_count": null,
   "metadata": {},
   "outputs": [],
   "source": [
    "start = datetime.datetime(2010, 1, 1)\n",
    "end = datetime.datetime(2016, 7, 15)\n",
    "unrate_df = data.DataReader('UNRATE', 'fred', start, end)\n",
    "unrate_df.plot()"
   ]
  },
  {
   "cell_type": "markdown",
   "metadata": {},
   "source": [
    "### Google"
   ]
  },
  {
   "cell_type": "code",
   "execution_count": null,
   "metadata": {},
   "outputs": [],
   "source": [
    "start = datetime.datetime(2010, 1, 1)\n",
    "end = datetime.datetime(2016, 7, 15)\n",
    "google_df = data.DataReader(\"F\", 'google', start, end)\n",
    "google_df.plot()"
   ]
  },
  {
   "cell_type": "code",
   "execution_count": 6,
   "metadata": {},
   "outputs": [],
   "source": []
  },
  {
   "cell_type": "code",
   "execution_count": 24,
   "metadata": {},
   "outputs": [
    {
     "data": {
      "text/plain": [
       "0      2010-01-04\n",
       "1      2010-01-05\n",
       "2      2010-01-06\n",
       "3      2010-01-07\n",
       "4      2010-01-08\n",
       "5      2010-01-11\n",
       "6      2010-01-12\n",
       "7      2010-01-13\n",
       "8      2010-01-14\n",
       "9      2010-01-15\n",
       "10     2010-01-19\n",
       "11     2010-01-20\n",
       "12     2010-01-21\n",
       "13     2010-01-22\n",
       "14     2010-01-25\n",
       "15     2010-01-26\n",
       "16     2010-01-27\n",
       "17     2010-01-28\n",
       "18     2010-01-29\n",
       "19     2010-02-01\n",
       "20     2010-02-02\n",
       "21     2010-02-03\n",
       "22     2010-02-04\n",
       "23     2010-02-05\n",
       "24     2010-02-08\n",
       "25     2010-02-09\n",
       "26     2010-02-10\n",
       "27     2010-02-11\n",
       "28     2010-02-12\n",
       "29     2010-02-16\n",
       "          ...    \n",
       "1615   2016-06-03\n",
       "1616   2016-06-06\n",
       "1617   2016-06-07\n",
       "1618   2016-06-08\n",
       "1619   2016-06-09\n",
       "1620   2016-06-10\n",
       "1621   2016-06-13\n",
       "1622   2016-06-14\n",
       "1623   2016-06-15\n",
       "1624   2016-06-16\n",
       "1625   2016-06-17\n",
       "1626   2016-06-20\n",
       "1627   2016-06-21\n",
       "1628   2016-06-22\n",
       "1629   2016-06-23\n",
       "1630   2016-06-24\n",
       "1631   2016-06-27\n",
       "1632   2016-06-28\n",
       "1633   2016-06-29\n",
       "1634   2016-06-30\n",
       "1635   2016-07-01\n",
       "1636   2016-07-05\n",
       "1637   2016-07-06\n",
       "1638   2016-07-07\n",
       "1639   2016-07-08\n",
       "1640   2016-07-11\n",
       "1641   2016-07-12\n",
       "1642   2016-07-13\n",
       "1643   2016-07-14\n",
       "1644   2016-07-15\n",
       "Name: Date, dtype: datetime64[ns]"
      ]
     },
     "execution_count": 24,
     "metadata": {},
     "output_type": "execute_result"
    }
   ],
   "source": []
  },
  {
   "cell_type": "code",
   "execution_count": null,
   "metadata": {
    "collapsed": true
   },
   "outputs": [],
   "source": []
  }
 ],
 "metadata": {
  "kernelspec": {
   "display_name": "Python 3",
   "language": "python",
   "name": "python3"
  },
  "language_info": {
   "codemirror_mode": {
    "name": "ipython",
    "version": 3
   },
   "file_extension": ".py",
   "mimetype": "text/x-python",
   "name": "python",
   "nbconvert_exporter": "python",
   "pygments_lexer": "ipython3",
   "version": "3.6.3"
  }
 },
 "nbformat": 4,
 "nbformat_minor": 1
}
