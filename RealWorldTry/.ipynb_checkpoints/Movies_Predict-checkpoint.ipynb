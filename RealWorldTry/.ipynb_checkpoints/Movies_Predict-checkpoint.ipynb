{
 "cells": [
  {
   "cell_type": "code",
   "execution_count": 77,
   "metadata": {},
   "outputs": [],
   "source": [
    "import pandas as pd\n",
    "import numpy as np\n",
    "import pickle"
   ]
  },
  {
   "cell_type": "code",
   "execution_count": 78,
   "metadata": {},
   "outputs": [],
   "source": [
    "curr_user_id=3"
   ]
  },
  {
   "cell_type": "code",
   "execution_count": 79,
   "metadata": {},
   "outputs": [
    {
     "ename": "FileNotFoundError",
     "evalue": "[Errno 2] No such file or directory: 'u_ml-1m.dat'",
     "output_type": "error",
     "traceback": [
      "\u001b[0;31m---------------------------------------------------------------------------\u001b[0m",
      "\u001b[0;31mFileNotFoundError\u001b[0m                         Traceback (most recent call last)",
      "\u001b[0;32m<ipython-input-79-e3eb21177767>\u001b[0m in \u001b[0;36m<module>\u001b[0;34m()\u001b[0m\n\u001b[1;32m      1\u001b[0m \u001b[0;31m# fileSize=\"ml-100k\"\u001b[0m\u001b[0;34m\u001b[0m\u001b[0;34m\u001b[0m\u001b[0m\n\u001b[1;32m      2\u001b[0m \u001b[0mfileSize\u001b[0m\u001b[0;34m=\u001b[0m\u001b[0;34m\"ml-1m\"\u001b[0m\u001b[0;34m\u001b[0m\u001b[0m\n\u001b[0;32m----> 3\u001b[0;31m \u001b[0mU\u001b[0m \u001b[0;34m=\u001b[0m \u001b[0mnp\u001b[0m\u001b[0;34m.\u001b[0m\u001b[0mload\u001b[0m\u001b[0;34m(\u001b[0m\u001b[0mopen\u001b[0m\u001b[0;34m(\u001b[0m\u001b[0;34m\"u_\"\u001b[0m\u001b[0;34m+\u001b[0m\u001b[0mfileSize\u001b[0m\u001b[0;34m+\u001b[0m\u001b[0;34m\".dat\"\u001b[0m\u001b[0;34m,\u001b[0m \u001b[0;34m\"rb\"\u001b[0m\u001b[0;34m)\u001b[0m\u001b[0;34m,\u001b[0m \u001b[0mallow_pickle\u001b[0m\u001b[0;34m=\u001b[0m\u001b[0;32mTrue\u001b[0m\u001b[0;34m)\u001b[0m\u001b[0;34m\u001b[0m\u001b[0m\n\u001b[0m\u001b[1;32m      4\u001b[0m \u001b[0mM\u001b[0m \u001b[0;34m=\u001b[0m \u001b[0mnp\u001b[0m\u001b[0;34m.\u001b[0m\u001b[0mload\u001b[0m\u001b[0;34m(\u001b[0m\u001b[0mopen\u001b[0m\u001b[0;34m(\u001b[0m\u001b[0;34m\"m_\"\u001b[0m\u001b[0;34m+\u001b[0m\u001b[0mfileSize\u001b[0m\u001b[0;34m+\u001b[0m\u001b[0;34m\".dat\"\u001b[0m\u001b[0;34m,\u001b[0m \u001b[0;34m\"rb\"\u001b[0m\u001b[0;34m)\u001b[0m\u001b[0;34m,\u001b[0m \u001b[0mallow_pickle\u001b[0m\u001b[0;34m=\u001b[0m\u001b[0;32mTrue\u001b[0m\u001b[0;34m)\u001b[0m\u001b[0;34m\u001b[0m\u001b[0m\n",
      "\u001b[0;31mFileNotFoundError\u001b[0m: [Errno 2] No such file or directory: 'u_ml-1m.dat'"
     ]
    }
   ],
   "source": [
    "fileSize=\"ml-100k\"\n",
    "U = np.load(open(\"u_\"+fileSize+\".dat\", \"rb\"), allow_pickle=True)\n",
    "M = np.load(open(\"m_\"+fileSize+\".dat\", \"rb\"), allow_pickle=True)"
   ]
  },
  {
   "cell_type": "code",
   "execution_count": null,
   "metadata": {},
   "outputs": [],
   "source": [
    "predicted_ratings=np.matmul(U,M)"
   ]
  },
  {
   "cell_type": "code",
   "execution_count": null,
   "metadata": {},
   "outputs": [],
   "source": [
    "user_info_headers=\"user id|age|gender|occupation|zip code\".split(\"|\")\n",
    "user_info=pd.read_csv(\"ml-100k/u.user\", delimiter=\"|\", names=user_info_headers)\n",
    "# user_info[\"user id\"].size #943"
   ]
  },
  {
   "cell_type": "code",
   "execution_count": null,
   "metadata": {},
   "outputs": [],
   "source": [
    "rating_headers=\"user id|item id|rating|timestamp\".split(\"|\")\n",
    "rating_df=pd.read_csv(\"ml-100k/u.data\", delimiter=\"\\t\", names=rating_headers)\n",
    "rating_df.head()\n",
    "# rating_df[\"item id\"].unique().size #1682\n",
    "# rating_df[\"user id\"].unique().size #943"
   ]
  },
  {
   "cell_type": "code",
   "execution_count": null,
   "metadata": {},
   "outputs": [],
   "source": [
    "item_headers=\"movie id| movie title | release date | video release date | IMDb URL | unknown | Action | Adventure | Animation |              Children's | Comedy | Crime | Documentary | Drama | Fantasy |              Film-Noir | Horror | Musical | Mystery | Romance | Sci-Fi |              Thriller | War | Western \".split(\"|\")\n",
    "items=pd.read_csv(\"ml-100k/u.item\", encoding=\"iso-8859-1\", delimiter=\"|\", names=item_headers)\n",
    "# items[\"movie id\"].size #1682"
   ]
  },
  {
   "cell_type": "code",
   "execution_count": null,
   "metadata": {},
   "outputs": [],
   "source": [
    "user_info[user_info[\"user id\"]==curr_user_id]"
   ]
  },
  {
   "cell_type": "code",
   "execution_count": null,
   "metadata": {},
   "outputs": [],
   "source": [
    "#Already reviewed by the user\n",
    "alredy_reviewed=rating_df[rating_df[\"user id\"]==curr_user_id]\n",
    "items[items[\"movie id\"].isin(alredy_reviewed[\"item id\"])].head()"
   ]
  },
  {
   "cell_type": "code",
   "execution_count": null,
   "metadata": {},
   "outputs": [],
   "source": [
    "predicted_user_ratings=predicted_ratings[curr_user_id-1]\n",
    "predicted_user_ratings"
   ]
  },
  {
   "cell_type": "code",
   "execution_count": null,
   "metadata": {},
   "outputs": [],
   "source": [
    "items[\"curr_user_ratings\"]=predicted_user_ratings"
   ]
  },
  {
   "cell_type": "code",
   "execution_count": null,
   "metadata": {},
   "outputs": [],
   "source": [
    "ascending_values_ratings_for_curr_user=items.sort_values(by=[\"curr_user_ratings\"], ascending=False)"
   ]
  },
  {
   "cell_type": "code",
   "execution_count": null,
   "metadata": {},
   "outputs": [],
   "source": [
    "# ascending_values_ratings_for_curr_user[ascending_values_ratings_for_curr_user[\"user id\"]==curr_user_id]\n",
    "recommendations=ascending_values_ratings_for_curr_user[ascending_values_ratings_for_curr_user[\"movie id\"].isin(alredy_reviewed[\"item id\"]) == False]"
   ]
  },
  {
   "cell_type": "code",
   "execution_count": null,
   "metadata": {},
   "outputs": [],
   "source": [
    "recommendations.head()"
   ]
  }
 ],
 "metadata": {
  "kernelspec": {
   "display_name": "Python 3",
   "language": "python",
   "name": "python3"
  },
  "language_info": {
   "codemirror_mode": {
    "name": "ipython",
    "version": 3
   },
   "file_extension": ".py",
   "mimetype": "text/x-python",
   "name": "python",
   "nbconvert_exporter": "python",
   "pygments_lexer": "ipython3",
   "version": "3.6.3"
  }
 },
 "nbformat": 4,
 "nbformat_minor": 2
}
